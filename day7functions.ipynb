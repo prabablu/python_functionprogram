{
 "cells": [
  {
   "cell_type": "code",
   "execution_count": null,
   "metadata": {},
   "outputs": [],
   "source": [
    "print(help('modules'))1"
   ]
  },
  {
   "cell_type": "code",
   "execution_count": null,
   "metadata": {},
   "outputs": [],
   "source": [
    "print(help('modules spam'))"
   ]
  },
  {
   "cell_type": "code",
   "execution_count": null,
   "metadata": {},
   "outputs": [],
   "source": [
    "def nsquare(x,y):\n",
    "    return (x*x+2*x*y+y*y)\n",
    "print(\"the square  of the sum of 2 and 3 is :\",nsquare(2,3))"
   ]
  },
  {
   "cell_type": "code",
   "execution_count": null,
   "metadata": {},
   "outputs": [],
   "source": [
    "nsquare(2,3)"
   ]
  },
  {
   "cell_type": "code",
   "execution_count": null,
   "metadata": {},
   "outputs": [],
   "source": [
    "def nsquare(x,y):# that's return is important in any user defined functions\n",
    "    z=(x*x+2*x*y+y*y)\n",
    "    #print(\"the square  of the sum of 2 and 3 is :\",z)\n",
    "print(nsquare(2,3))"
   ]
  },
  {
   "cell_type": "code",
   "execution_count": null,
   "metadata": {},
   "outputs": [],
   "source": [
    "def nsquare(x,y):# that's return is important in any user defined functions\n",
    "    z=(x*x+2*x*y+y*y)\n",
    "    print(\"the square  of the sum of 2 and 3 is :\",z)\n",
    "print(nsquare(2,3))"
   ]
  },
  {
   "cell_type": "code",
   "execution_count": null,
   "metadata": {},
   "outputs": [],
   "source": [
    "#create a calculter for por like add, sub, mul,div and floor dev using function\n",
    "def add(x,y):\n",
    "        print(\"the sum of : \",x+y)\n",
    "        return\n",
    "add(2,3)\n",
    "def mul(x,y):\n",
    "        print(\"the mul of : \",x*y)\n",
    "        return\n",
    "mul(2,3)\n",
    "def div(x,y):\n",
    "        print(\"the div of : \",x/y)\n",
    "        return\n",
    "div(2,3)\n",
    "def sub(x,y):\n",
    "        print(\"the sub of : \",x-y)\n",
    "        return\n",
    "sub(2,3)\n",
    "def f_div(x,y):\n",
    "        print(\"the f_div of : \",x//y)\n",
    "        return\n",
    "f_div(2,3)\n"
   ]
  },
  {
   "cell_type": "code",
   "execution_count": null,
   "metadata": {},
   "outputs": [],
   "source": [
    "def add(x,y):\n",
    "        print(\"the sum of : \",x+y)\n",
    "        return\n",
    "def mul(x,y):\n",
    "        print(\"the mul of : \",x*y)\n",
    "        return\n",
    "def div(x,y):\n",
    "        print(\"the div of : \",x/y)\n",
    "        return\n",
    "def sub(x,y):\n",
    "        print(\"the sub of : \",x-y)\n",
    "        return\n",
    "def f_div(x,y):\n",
    "        print(\"the f_div of : \",x//y)\n",
    "        return\n",
    "a = input(\"enter what u want to perfom:A for add\\n B for mul\\nC for div \\n D for sub \\n E for f_div\\n\")\n",
    "x = int(input('enter 1st value\\n'))\n",
    "y = int(input('enter 2nd value\\n'))\n",
    "if(a==\"A\"):\n",
    "    add(x,y)\n",
    "elif(a=='B'):\n",
    "     mul(x,y)\n",
    "elif (a=='C'):\n",
    "    div(x,y)\n",
    "elif (a=='D'):\n",
    "    sub(x,y)\n",
    "elif (a=='E'):\n",
    "    f_div(x,y)"
   ]
  },
  {
   "cell_type": "code",
   "execution_count": null,
   "metadata": {},
   "outputs": [],
   "source": [
    "f_div(2,3)"
   ]
  },
  {
   "cell_type": "code",
   "execution_count": null,
   "metadata": {},
   "outputs": [],
   "source": [
    "#Write a program get the shape from the user and print circle ,rectanguler,tringle,sqquare\n",
    "def rectan(l,b):\n",
    "    print(\"area is rectan is = \",{l*b})\n",
    "    return\n",
    "def circle(pie,r):\n",
    "    print('area is circle is = ',{pie*r*r})\n",
    "    return\n",
    "def triangle(b,h):\n",
    "    print('area is triangle is = ',{.05*b*h})\n",
    "    return\n",
    "def square(s):\n",
    "    print('area is square= ',{s*s})\n",
    "    return\n",
    "shape=input(\"enter the shape \")\n",
    "pie=3.14\n",
    "if shape== \"rectan\":\n",
    "    l= int(input('enter the l = '))\n",
    "    b= int(input('enter the b = '))\n",
    "    rectan(l,b) \n",
    "elif shape=='circle':\n",
    "    r= int(input('enter the r = '))\n",
    "    circle(pie,r)\n",
    "elif shape =='triangle':\n",
    "    h= int(input('enter the h = '))\n",
    "    b= int(input('enter the b = '))\n",
    "    triangle(b,h)\n",
    "elif shape =='square':\n",
    "    s= int(input('enter the s = '))\n",
    "    print('area is square= ',{s*s})"
   ]
  },
  {
   "cell_type": "code",
   "execution_count": 5,
   "metadata": {},
   "outputs": [
    {
     "name": "stdout",
     "output_type": "stream",
     "text": [
      "enter your account number\n",
      " three customer\n",
      "a\\c:a1\n",
      "a\\c:a2\n",
      "a\\c:a3\n",
      " :12\n",
      "enter want u want\n",
      " 1 for deposit \n",
      " 2 for withdrawl\n",
      " 3 for check balance\n",
      ":12\n",
      "please enter right key\n",
      "thank you for banking with us:)\n"
     ]
    }
   ],
   "source": [
    "#using function to perfom bank transation deposit withdrawal and check balance\n",
    "def depo(old_b):\n",
    "    dep=int(input('enter deposit amount\\n'))\n",
    "    print(\"new _b is :\",old_b+dep)\n",
    "    return\n",
    "def withd(old_b):\n",
    "    w=int(input(\"enter withdraw amount\\n:\"))\n",
    "    if(w<5001):\n",
    "        print(\"new_b is\",old_b-w)\n",
    "    else: \n",
    "        print('your balance is to low:')\n",
    "    return\n",
    "def cb(old_b):\n",
    "    print('your balanceis :',old_b)\n",
    "    return\n",
    "def depo(old_b1):\n",
    "    dep=int(input('enter deposit amount\\n'))\n",
    "    print(\"new _b is :\",old_b1+dep)\n",
    "    return\n",
    "def withd(old_b1):\n",
    "    w=int(input(\"enter withdraw amount\\n:\"))\n",
    "    if(w<4001):\n",
    "        print(\"new_b is\",old_b1-w)\n",
    "    else: \n",
    "        print('your balance is to low:')\n",
    "    return\n",
    "def cb(old_b1):\n",
    "    print('your balanceis :',old_b)\n",
    "    return\n",
    "def depo(old_b2):\n",
    "    dep=int(input('enter deposit amount\\n'))\n",
    "    print(\"new _b is :\",old_b+dep)\n",
    "    return\n",
    "def withd(old_b2):\n",
    "    w=int(input(\"enter withdraw amount\\n:\"))\n",
    "    if(w<3001):\n",
    "        print(\"new_b is\",old_b-w)\n",
    "    else: \n",
    "        print('your balance is to low:')\n",
    "    return\n",
    "def cb(old_b2):\n",
    "    print('your balanceis :',old_b)\n",
    "    return\n",
    "a=input(\"enter your account number\\n three customer\\na\\c:a1\\na\\c:a2\\na\\c:a3\\n :\")\n",
    "b=input('enter want u want\\n 1 for deposit \\n 2 for withdrawl\\n 3 for check balance\\n:' )\n",
    "old_b=5000\n",
    "old_b1=4000\n",
    "old_b2=3000\n",
    "if(a=='a1' or b=='1'):\n",
    "    depo(old_b)\n",
    "    print(\"thank you for banking with us:)\\n\")\n",
    "elif(a=='a1' or b=='2'):\n",
    "    withd(old_b)\n",
    "    print(\"thank you for banking with us:)\\n\")\n",
    "elif(a=='a1' or b=='3'):\n",
    "    cb(old_b)\n",
    "    print(\"thank you for banking with us;)\\n\")\n",
    "elif(a=='a2' or b=='1'):\n",
    "    depo(old_b1)\n",
    "    print(\"thank you for banking with us:)\\n\")\n",
    "elif(a=='a2' or b=='2'):\n",
    "    withd(old_b1)\n",
    "    print(\"thank you for banking with us:)\\n\")\n",
    "elif(a=='a2' or b=='3'):\n",
    "    cb(old_b1)\n",
    "    print(\"thank you for banking with us;)\\n\")\n",
    "elif(a=='a3' or b=='1'):\n",
    "    depo(old_b2)\n",
    "    print(\"thank you for banking with us:)\\n\")\n",
    "elif(a=='a3' or b=='2'):\n",
    "    withd(old_b2)\n",
    "    print(\"thank you for banking with us:)\\n\")\n",
    "elif(a=='a3' or b=='3'):\n",
    "    cb(old_b2)\n",
    "    print(\"thank you for banking with us;)\\n\")\n",
    "else:\n",
    "    print(\"please enter right key\\nthank you for banking with us:)\")"
   ]
  },
  {
   "cell_type": "code",
   "execution_count": null,
   "metadata": {},
   "outputs": [],
   "source": []
  },
  {
   "cell_type": "code",
   "execution_count": null,
   "metadata": {},
   "outputs": [],
   "source": []
  },
  {
   "cell_type": "code",
   "execution_count": null,
   "metadata": {},
   "outputs": [],
   "source": []
  },
  {
   "cell_type": "code",
   "execution_count": null,
   "metadata": {},
   "outputs": [],
   "source": []
  },
  {
   "cell_type": "code",
   "execution_count": null,
   "metadata": {},
   "outputs": [],
   "source": []
  }
 ],
 "metadata": {
  "kernelspec": {
   "display_name": "Python 3",
   "language": "python",
   "name": "python3"
  },
  "language_info": {
   "codemirror_mode": {
    "name": "ipython",
    "version": 3
   },
   "file_extension": ".py",
   "mimetype": "text/x-python",
   "name": "python",
   "nbconvert_exporter": "python",
   "pygments_lexer": "ipython3",
   "version": "3.7.3"
  }
 },
 "nbformat": 4,
 "nbformat_minor": 2
}
